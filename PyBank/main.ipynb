{
 "cells": [
  {
   "cell_type": "code",
   "execution_count": 403,
   "id": "5c8681dc-b979-4ebe-b631-8fdcf69935ce",
   "metadata": {},
   "outputs": [],
   "source": [
    "# Import the pathlib and csv library\n",
    "import pathlib\n",
    "from pathlib import Path\n",
    "import csv"
   ]
  },
  {
   "cell_type": "code",
   "execution_count": 404,
   "id": "37289b67-4c8e-4ab4-a9f1-02f379991208",
   "metadata": {},
   "outputs": [
    {
     "name": "stdout",
     "output_type": "stream",
     "text": [
      "Current Working Directory: /Users/luketarlinton/Desktop/Jupiter-Workspace/Week 2 - Assignment 2\n"
     ]
    }
   ],
   "source": [
    "print(f\"Current Working Directory: {Path.cwd()}\")"
   ]
  },
  {
   "cell_type": "code",
   "execution_count": 405,
   "id": "c3ce426f-dd9e-4c56-9241-e1c3d7e0faef",
   "metadata": {},
   "outputs": [],
   "source": [
    "# Set the file path\n",
    "csvpath = Path(\"/Users/luketarlinton/Desktop/Jupiter-Workspace/Week 2 - Assignment 2/budget_data.csv\")"
   ]
  },
  {
   "cell_type": "code",
   "execution_count": 406,
   "id": "e0ee87d8-bb29-4925-9f27-2b378f85ed9c",
   "metadata": {},
   "outputs": [],
   "source": [
    "# Initialize variable to hold records\n",
    "records = []"
   ]
  },
  {
   "cell_type": "code",
   "execution_count": 407,
   "id": "cdb3ed8a-9da9-4505-a09a-bdca095bfa44",
   "metadata": {},
   "outputs": [],
   "source": [
    "# Open the input path as a file object\n",
    "with open(csvpath, 'r') as csvfile:\n",
    "    \n",
    "# Pass in the csv file to the csv.reader() function\n",
    "# (with ',' as the delmiter/separator) and return the csvreader object\n",
    "    \n",
    "    csvreader = csv.reader(csvfile, delimiter=',')\n",
    "\n",
    "# Go to the next row from the start of the file\n",
    "    \n",
    "    csv_header = next(csvreader)\n",
    "    \n",
    "# Go to the next row from the start of the file    \n",
    "    \n",
    "    first_row = next(csvreader)\n",
    "\n",
    "# Initialize metric variables    \n",
    "   \n",
    "    previous_net = first_row [1]\n",
    "    greatest_increase = [(\"\"),0]\n",
    "    greatest_decrease = [\"\",0]\n",
    "    number_of_months = 1\n",
    "    number_of_periods = 0\n",
    "    all_change = []\n",
    "    \n",
    "# Read each row of data after the header   \n",
    "    \n",
    "    for row in csvreader:\n",
    "        \n",
    "# Set current net equal to the value in the 2nd column of each row       \n",
    "        \n",
    "        current_net = row[1]\n",
    "        \n",
    "# Set net change equal to the current net (current row of column 2 minus the previous net (previous row of coloumn 2)    \n",
    "       \n",
    "        net_change = int(current_net) - int(previous_net)\n",
    "        \n",
    "# Set previous net equal to the current net   \n",
    "       \n",
    "        previous_net = current_net\n",
    "        \n",
    "# Append net change to the list of all change\n",
    "       \n",
    "        all_change.append(net_change)\n",
    "        \n",
    "# Logic to determine greatest increase and decrease    \n",
    "       \n",
    "        if net_change > greatest_increase[1]:\n",
    "            greatest_increase[0] = row[0]\n",
    "            greatest_increase[1] = net_change\n",
    "        if net_change < greatest_decrease[1]:\n",
    "            greatest_decrease[0] = row[0]\n",
    "            greatest_decrease[1] = net_change\n",
    "            \n",
    "# Sum the total and count variables            \n",
    "       \n",
    "        number_of_months += 1\n",
    "        number_of_periods += 1\n",
    "        average_change_in_profit_loss = round(sum(all_change)/number_of_periods,2)"
   ]
  },
  {
   "cell_type": "code",
   "execution_count": 408,
   "id": "9bbf4ba1-4710-4320-8cbd-9370fcc09654",
   "metadata": {},
   "outputs": [],
   "source": [
    "# Open the input path as a file object\n",
    "# Pass in the csv file to the csv.reader() function\n",
    "# (with ',' as the delmiter/separator) and return the csvreader object\n",
    "# Initialize metric variables \n",
    "with open(csvpath, 'r') as csvfile:\n",
    "    csvreader = csv.reader(csvfile, delimiter=',')\n",
    "    csv_header = next(csvreader)\n",
    "    total_profit_losses = 0\n",
    "    \n",
    "# Read each row of data after the header    \n",
    "    for row in csvreader:\n",
    "# Sum the total of all rows in column 2        \n",
    "        total_profit_losses += int(row[1])"
   ]
  },
  {
   "cell_type": "code",
   "execution_count": 409,
   "id": "98ac9fe9-00bc-4782-9fbc-01695a5fe3cd",
   "metadata": {},
   "outputs": [
    {
     "name": "stdout",
     "output_type": "stream",
     "text": [
      "['Feb-2012', 1926159]\n",
      "['Sep-2013', -2196167]\n",
      "86\n",
      "-2315.12\n",
      "38382578\n"
     ]
    }
   ],
   "source": [
    "#Check results are accurate using print:\n",
    "print(greatest_increase)\n",
    "print(greatest_decrease)\n",
    "print(number_of_months)\n",
    "print(average_change_in_profit_loss)\n",
    "print(total_profit_losses)"
   ]
  },
  {
   "cell_type": "code",
   "execution_count": 410,
   "id": "6d3e0a15-cb18-4426-b592-be4284267f89",
   "metadata": {},
   "outputs": [],
   "source": [
    "# Export the results to a txt file:\n",
    "with open(output_path, 'w') as txt_file:\n",
    "    txt_file.write(f\"Financial Analysis\\n\")\n",
    "    txt_file.write(f\"-----------------------------------\\n\")\n",
    "    txt_file.write(f\"Total Months: {number_of_months}\\n\")\n",
    "    txt_file.write(f\"Total: ${total_profit_losses}\\n\")\n",
    "    txt_file.write(f\"Average Change: ${average_change_in_profit_loss}\\n\")\n",
    "    txt_file.write(f\"Greatest Increase In Profits: {greatest_increase}\\n\")\n",
    "    txt_file.write(f\"Greatest Decrease In Profits: {greatest_decrease}\\n\")\n",
    "\n",
    "    output_path = Path(\"output.txt\")"
   ]
  }
 ],
 "metadata": {
  "kernelspec": {
   "display_name": "Python 3 (ipykernel)",
   "language": "python",
   "name": "python3"
  },
  "language_info": {
   "codemirror_mode": {
    "name": "ipython",
    "version": 3
   },
   "file_extension": ".py",
   "mimetype": "text/x-python",
   "name": "python",
   "nbconvert_exporter": "python",
   "pygments_lexer": "ipython3",
   "version": "3.7.11"
  }
 },
 "nbformat": 4,
 "nbformat_minor": 5
}
